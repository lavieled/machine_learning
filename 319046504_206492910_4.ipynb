{
  "cells": [
    {
      "cell_type": "markdown",
      "metadata": {
        "id": "view-in-github",
        "colab_type": "text"
      },
      "source": [
        "<a href=\"https://colab.research.google.com/github/lavieled/machine_learning/blob/main/319046504_206492910_4.ipynb\" target=\"_parent\"><img src=\"https://colab.research.google.com/assets/colab-badge.svg\" alt=\"Open In Colab\"/></a>"
      ]
    },
    {
      "cell_type": "markdown",
      "source": [
        "# Homework 3 - Probability Estimation"
      ],
      "metadata": {
        "id": "Pyw683h5Xm3i"
      }
    },
    {
      "cell_type": "markdown",
      "source": [
        "## Before you begin\n",
        "\n",
        "Remember to:\n",
        "\n",
        "1. Make your own copy of the notebook by pressing the \"Copy to drive\" button.\n",
        "2. Expend all cells by pressing **Ctrl+[**\n",
        "\n",
        "### Your IDs\n",
        "\n",
        "✍️ Fill in your IDs in the cell below:"
      ],
      "metadata": {
        "id": "8G15wgaZXm3p"
      }
    },
    {
      "cell_type": "code",
      "source": [
        "## %%%%%%%%%%%%%%% Your code here - Begin %%%%%%%%%%%%%%%\n",
        "## Fill in your IDs (as a string)\n",
        "student1_id = '319046504'\n",
        "student2_id = '206492910'\n",
        "## %%%%%%%%%%%%%%% Your code here - End %%%%%%%%%%%%%%%%%\n",
        "\n",
        "print('Hello ' + student1_id + ' & ' + student2_id)"
      ],
      "metadata": {
        "id": "SFSwkcdLXm3r",
        "colab": {
          "base_uri": "https://localhost:8080/",
          "height": 0
        },
        "outputId": "7dd8c352-913e-4c26-8243-78b0ad94055a"
      },
      "execution_count": 12,
      "outputs": [
        {
          "output_type": "stream",
          "name": "stdout",
          "text": [
            "Hello 319046504 & 206492910\n"
          ]
        }
      ]
    },
    {
      "cell_type": "markdown",
      "source": [
        "### Importing Packages"
      ],
      "metadata": {
        "id": "W1NWLDGzXm3v"
      }
    },
    {
      "cell_type": "code",
      "source": [
        "import numpy as np  # Numerical package (mainly multi-dimensional arrays and linear algebra)\n",
        "import pandas as pd  # A package for working with data frames\n",
        "import matplotlib.pyplot as plt  # A plotting package\n",
        "\n",
        "## Setup matplotlib to output figures into the notebook\n",
        "%matplotlib inline\n",
        "\n",
        "## Set some default values of the the matplotlib plots\n",
        "plt.rcParams['figure.figsize'] = (6.0, 6.0)  # Set default plot's sizes\n",
        "plt.rcParams['figure.dpi'] = 120  # Set default plot's dpi (increase fonts' size)\n",
        "plt.rcParams['axes.grid'] = True  # Show grid by default in figures"
      ],
      "metadata": {
        "id": "IYC2JivOXm3w"
      },
      "execution_count": 13,
      "outputs": []
    },
    {
      "cell_type": "markdown",
      "source": [
        "## The Ultra-Trail du Mont-Blanc\n",
        "\n",
        "In this assignment, we will examine the distribution of results in The Ultra-Trail du Mont-Blanc race.\n",
        "\n",
        "The description of the race (taken from Wikipedia):\n",
        "\n",
        ">  It takes place once a year on either the last weekend in August or the first weekend of September in the Alps, and follows the route of the Tour du Mont Blanc through France, Italy and Switzerland. It has a distance of approximately 171 kilometres (106 mi), and a total elevation gain of around 10,040 metres (32,940 ft). It is widely regarded as one of the most difficult foot races in the world, and one of the largest with more than 2,500 starters. It is one race during a week-long festival based around Chamonix in France. The races have strict entry and qualification requirements attained by accumulating enough race points through qualifying trail races over the previous two-year period. In 2016 and 2017, 42% and 34% of runners did not finish the UTMB race.\n",
        "\n",
        "> While the best runners complete the loop in slightly more than 20 hours, most runners take 32 to 46 hours to reach the finish line. Most runners will have to run through two nights in order to complete the race.\n",
        "\n",
        "The original results can be found [here](https://utmbmontblanc.com/en/page/349/results.html).\n",
        "\n",
        "A processed version of the results as a CSV file can be found [here](https://technion046195.netlify.app/datasets/utmb.csv)"
      ],
      "metadata": {
        "id": "n7_U5QIMXm3x"
      }
    },
    {
      "cell_type": "markdown",
      "source": [
        "### Loading the dataset"
      ],
      "metadata": {
        "id": "uUA3K2G6Xm3x"
      }
    },
    {
      "cell_type": "code",
      "source": [
        "data_file = 'https://technion046195.netlify.app/datasets/utmb.csv'\n",
        "\n",
        "## Loading the data\n",
        "dataset = pd.read_csv(data_file)\n",
        "\n",
        "dataset"
      ],
      "metadata": {
        "id": "-Qxc755xXm3y",
        "colab": {
          "base_uri": "https://localhost:8080/",
          "height": 423
        },
        "outputId": "c7b2595f-2728-49ef-de7a-f7531e910b5a"
      },
      "execution_count": 14,
      "outputs": [
        {
          "output_type": "execute_result",
          "data": {
            "text/plain": [
              "       Rank                  Name  Year     Result  Age Group  Gender\n",
              "0         1     DELEBARRE Vincent  2004  21.105000          1       0\n",
              "1         2  SHERPA Dachhiri-Dawa  2004  23.041111          1       0\n",
              "2         3     PACHE Jean Claude  2004  23.668889          1       0\n",
              "3         4    FAVRE-FELIX Lionel  2004  23.843333          1       0\n",
              "4         5          NEMETH Csaba  2004  23.902500          1       0\n",
              "...     ...                   ...   ...        ...        ...     ...\n",
              "19511  1774    BIAUNIÉ Jean-Marie  2018  46.552500          3       0\n",
              "19512  1775        MUIRHEAD Lorna  2018  46.591111          2       1\n",
              "19513  1776        YAMANE Satoshi  2018  46.911944          2       0\n",
              "19514  1777        SCHUHMANN Marc  2018  46.941667          3       0\n",
              "19515  1778   BENMAMMAR Abdennour  2018  46.947500          2       0\n",
              "\n",
              "[19516 rows x 6 columns]"
            ],
            "text/html": [
              "\n",
              "  <div id=\"df-110a903c-4775-407e-8b40-432421c30136\" class=\"colab-df-container\">\n",
              "    <div>\n",
              "<style scoped>\n",
              "    .dataframe tbody tr th:only-of-type {\n",
              "        vertical-align: middle;\n",
              "    }\n",
              "\n",
              "    .dataframe tbody tr th {\n",
              "        vertical-align: top;\n",
              "    }\n",
              "\n",
              "    .dataframe thead th {\n",
              "        text-align: right;\n",
              "    }\n",
              "</style>\n",
              "<table border=\"1\" class=\"dataframe\">\n",
              "  <thead>\n",
              "    <tr style=\"text-align: right;\">\n",
              "      <th></th>\n",
              "      <th>Rank</th>\n",
              "      <th>Name</th>\n",
              "      <th>Year</th>\n",
              "      <th>Result</th>\n",
              "      <th>Age Group</th>\n",
              "      <th>Gender</th>\n",
              "    </tr>\n",
              "  </thead>\n",
              "  <tbody>\n",
              "    <tr>\n",
              "      <th>0</th>\n",
              "      <td>1</td>\n",
              "      <td>DELEBARRE Vincent</td>\n",
              "      <td>2004</td>\n",
              "      <td>21.105000</td>\n",
              "      <td>1</td>\n",
              "      <td>0</td>\n",
              "    </tr>\n",
              "    <tr>\n",
              "      <th>1</th>\n",
              "      <td>2</td>\n",
              "      <td>SHERPA Dachhiri-Dawa</td>\n",
              "      <td>2004</td>\n",
              "      <td>23.041111</td>\n",
              "      <td>1</td>\n",
              "      <td>0</td>\n",
              "    </tr>\n",
              "    <tr>\n",
              "      <th>2</th>\n",
              "      <td>3</td>\n",
              "      <td>PACHE Jean Claude</td>\n",
              "      <td>2004</td>\n",
              "      <td>23.668889</td>\n",
              "      <td>1</td>\n",
              "      <td>0</td>\n",
              "    </tr>\n",
              "    <tr>\n",
              "      <th>3</th>\n",
              "      <td>4</td>\n",
              "      <td>FAVRE-FELIX Lionel</td>\n",
              "      <td>2004</td>\n",
              "      <td>23.843333</td>\n",
              "      <td>1</td>\n",
              "      <td>0</td>\n",
              "    </tr>\n",
              "    <tr>\n",
              "      <th>4</th>\n",
              "      <td>5</td>\n",
              "      <td>NEMETH Csaba</td>\n",
              "      <td>2004</td>\n",
              "      <td>23.902500</td>\n",
              "      <td>1</td>\n",
              "      <td>0</td>\n",
              "    </tr>\n",
              "    <tr>\n",
              "      <th>...</th>\n",
              "      <td>...</td>\n",
              "      <td>...</td>\n",
              "      <td>...</td>\n",
              "      <td>...</td>\n",
              "      <td>...</td>\n",
              "      <td>...</td>\n",
              "    </tr>\n",
              "    <tr>\n",
              "      <th>19511</th>\n",
              "      <td>1774</td>\n",
              "      <td>BIAUNIÉ Jean-Marie</td>\n",
              "      <td>2018</td>\n",
              "      <td>46.552500</td>\n",
              "      <td>3</td>\n",
              "      <td>0</td>\n",
              "    </tr>\n",
              "    <tr>\n",
              "      <th>19512</th>\n",
              "      <td>1775</td>\n",
              "      <td>MUIRHEAD Lorna</td>\n",
              "      <td>2018</td>\n",
              "      <td>46.591111</td>\n",
              "      <td>2</td>\n",
              "      <td>1</td>\n",
              "    </tr>\n",
              "    <tr>\n",
              "      <th>19513</th>\n",
              "      <td>1776</td>\n",
              "      <td>YAMANE Satoshi</td>\n",
              "      <td>2018</td>\n",
              "      <td>46.911944</td>\n",
              "      <td>2</td>\n",
              "      <td>0</td>\n",
              "    </tr>\n",
              "    <tr>\n",
              "      <th>19514</th>\n",
              "      <td>1777</td>\n",
              "      <td>SCHUHMANN Marc</td>\n",
              "      <td>2018</td>\n",
              "      <td>46.941667</td>\n",
              "      <td>3</td>\n",
              "      <td>0</td>\n",
              "    </tr>\n",
              "    <tr>\n",
              "      <th>19515</th>\n",
              "      <td>1778</td>\n",
              "      <td>BENMAMMAR Abdennour</td>\n",
              "      <td>2018</td>\n",
              "      <td>46.947500</td>\n",
              "      <td>2</td>\n",
              "      <td>0</td>\n",
              "    </tr>\n",
              "  </tbody>\n",
              "</table>\n",
              "<p>19516 rows × 6 columns</p>\n",
              "</div>\n",
              "    <div class=\"colab-df-buttons\">\n",
              "\n",
              "  <div class=\"colab-df-container\">\n",
              "    <button class=\"colab-df-convert\" onclick=\"convertToInteractive('df-110a903c-4775-407e-8b40-432421c30136')\"\n",
              "            title=\"Convert this dataframe to an interactive table.\"\n",
              "            style=\"display:none;\">\n",
              "\n",
              "  <svg xmlns=\"http://www.w3.org/2000/svg\" height=\"24px\" viewBox=\"0 -960 960 960\">\n",
              "    <path d=\"M120-120v-720h720v720H120Zm60-500h600v-160H180v160Zm220 220h160v-160H400v160Zm0 220h160v-160H400v160ZM180-400h160v-160H180v160Zm440 0h160v-160H620v160ZM180-180h160v-160H180v160Zm440 0h160v-160H620v160Z\"/>\n",
              "  </svg>\n",
              "    </button>\n",
              "\n",
              "  <style>\n",
              "    .colab-df-container {\n",
              "      display:flex;\n",
              "      gap: 12px;\n",
              "    }\n",
              "\n",
              "    .colab-df-convert {\n",
              "      background-color: #E8F0FE;\n",
              "      border: none;\n",
              "      border-radius: 50%;\n",
              "      cursor: pointer;\n",
              "      display: none;\n",
              "      fill: #1967D2;\n",
              "      height: 32px;\n",
              "      padding: 0 0 0 0;\n",
              "      width: 32px;\n",
              "    }\n",
              "\n",
              "    .colab-df-convert:hover {\n",
              "      background-color: #E2EBFA;\n",
              "      box-shadow: 0px 1px 2px rgba(60, 64, 67, 0.3), 0px 1px 3px 1px rgba(60, 64, 67, 0.15);\n",
              "      fill: #174EA6;\n",
              "    }\n",
              "\n",
              "    .colab-df-buttons div {\n",
              "      margin-bottom: 4px;\n",
              "    }\n",
              "\n",
              "    [theme=dark] .colab-df-convert {\n",
              "      background-color: #3B4455;\n",
              "      fill: #D2E3FC;\n",
              "    }\n",
              "\n",
              "    [theme=dark] .colab-df-convert:hover {\n",
              "      background-color: #434B5C;\n",
              "      box-shadow: 0px 1px 3px 1px rgba(0, 0, 0, 0.15);\n",
              "      filter: drop-shadow(0px 1px 2px rgba(0, 0, 0, 0.3));\n",
              "      fill: #FFFFFF;\n",
              "    }\n",
              "  </style>\n",
              "\n",
              "    <script>\n",
              "      const buttonEl =\n",
              "        document.querySelector('#df-110a903c-4775-407e-8b40-432421c30136 button.colab-df-convert');\n",
              "      buttonEl.style.display =\n",
              "        google.colab.kernel.accessAllowed ? 'block' : 'none';\n",
              "\n",
              "      async function convertToInteractive(key) {\n",
              "        const element = document.querySelector('#df-110a903c-4775-407e-8b40-432421c30136');\n",
              "        const dataTable =\n",
              "          await google.colab.kernel.invokeFunction('convertToInteractive',\n",
              "                                                    [key], {});\n",
              "        if (!dataTable) return;\n",
              "\n",
              "        const docLinkHtml = 'Like what you see? Visit the ' +\n",
              "          '<a target=\"_blank\" href=https://colab.research.google.com/notebooks/data_table.ipynb>data table notebook</a>'\n",
              "          + ' to learn more about interactive tables.';\n",
              "        element.innerHTML = '';\n",
              "        dataTable['output_type'] = 'display_data';\n",
              "        await google.colab.output.renderOutput(dataTable, element);\n",
              "        const docLink = document.createElement('div');\n",
              "        docLink.innerHTML = docLinkHtml;\n",
              "        element.appendChild(docLink);\n",
              "      }\n",
              "    </script>\n",
              "  </div>\n",
              "\n",
              "\n",
              "<div id=\"df-cedbc6a6-b5a5-4442-9969-ed7b6f6fbb8a\">\n",
              "  <button class=\"colab-df-quickchart\" onclick=\"quickchart('df-cedbc6a6-b5a5-4442-9969-ed7b6f6fbb8a')\"\n",
              "            title=\"Suggest charts\"\n",
              "            style=\"display:none;\">\n",
              "\n",
              "<svg xmlns=\"http://www.w3.org/2000/svg\" height=\"24px\"viewBox=\"0 0 24 24\"\n",
              "     width=\"24px\">\n",
              "    <g>\n",
              "        <path d=\"M19 3H5c-1.1 0-2 .9-2 2v14c0 1.1.9 2 2 2h14c1.1 0 2-.9 2-2V5c0-1.1-.9-2-2-2zM9 17H7v-7h2v7zm4 0h-2V7h2v10zm4 0h-2v-4h2v4z\"/>\n",
              "    </g>\n",
              "</svg>\n",
              "  </button>\n",
              "\n",
              "<style>\n",
              "  .colab-df-quickchart {\n",
              "      --bg-color: #E8F0FE;\n",
              "      --fill-color: #1967D2;\n",
              "      --hover-bg-color: #E2EBFA;\n",
              "      --hover-fill-color: #174EA6;\n",
              "      --disabled-fill-color: #AAA;\n",
              "      --disabled-bg-color: #DDD;\n",
              "  }\n",
              "\n",
              "  [theme=dark] .colab-df-quickchart {\n",
              "      --bg-color: #3B4455;\n",
              "      --fill-color: #D2E3FC;\n",
              "      --hover-bg-color: #434B5C;\n",
              "      --hover-fill-color: #FFFFFF;\n",
              "      --disabled-bg-color: #3B4455;\n",
              "      --disabled-fill-color: #666;\n",
              "  }\n",
              "\n",
              "  .colab-df-quickchart {\n",
              "    background-color: var(--bg-color);\n",
              "    border: none;\n",
              "    border-radius: 50%;\n",
              "    cursor: pointer;\n",
              "    display: none;\n",
              "    fill: var(--fill-color);\n",
              "    height: 32px;\n",
              "    padding: 0;\n",
              "    width: 32px;\n",
              "  }\n",
              "\n",
              "  .colab-df-quickchart:hover {\n",
              "    background-color: var(--hover-bg-color);\n",
              "    box-shadow: 0 1px 2px rgba(60, 64, 67, 0.3), 0 1px 3px 1px rgba(60, 64, 67, 0.15);\n",
              "    fill: var(--button-hover-fill-color);\n",
              "  }\n",
              "\n",
              "  .colab-df-quickchart-complete:disabled,\n",
              "  .colab-df-quickchart-complete:disabled:hover {\n",
              "    background-color: var(--disabled-bg-color);\n",
              "    fill: var(--disabled-fill-color);\n",
              "    box-shadow: none;\n",
              "  }\n",
              "\n",
              "  .colab-df-spinner {\n",
              "    border: 2px solid var(--fill-color);\n",
              "    border-color: transparent;\n",
              "    border-bottom-color: var(--fill-color);\n",
              "    animation:\n",
              "      spin 1s steps(1) infinite;\n",
              "  }\n",
              "\n",
              "  @keyframes spin {\n",
              "    0% {\n",
              "      border-color: transparent;\n",
              "      border-bottom-color: var(--fill-color);\n",
              "      border-left-color: var(--fill-color);\n",
              "    }\n",
              "    20% {\n",
              "      border-color: transparent;\n",
              "      border-left-color: var(--fill-color);\n",
              "      border-top-color: var(--fill-color);\n",
              "    }\n",
              "    30% {\n",
              "      border-color: transparent;\n",
              "      border-left-color: var(--fill-color);\n",
              "      border-top-color: var(--fill-color);\n",
              "      border-right-color: var(--fill-color);\n",
              "    }\n",
              "    40% {\n",
              "      border-color: transparent;\n",
              "      border-right-color: var(--fill-color);\n",
              "      border-top-color: var(--fill-color);\n",
              "    }\n",
              "    60% {\n",
              "      border-color: transparent;\n",
              "      border-right-color: var(--fill-color);\n",
              "    }\n",
              "    80% {\n",
              "      border-color: transparent;\n",
              "      border-right-color: var(--fill-color);\n",
              "      border-bottom-color: var(--fill-color);\n",
              "    }\n",
              "    90% {\n",
              "      border-color: transparent;\n",
              "      border-bottom-color: var(--fill-color);\n",
              "    }\n",
              "  }\n",
              "</style>\n",
              "\n",
              "  <script>\n",
              "    async function quickchart(key) {\n",
              "      const quickchartButtonEl =\n",
              "        document.querySelector('#' + key + ' button');\n",
              "      quickchartButtonEl.disabled = true;  // To prevent multiple clicks.\n",
              "      quickchartButtonEl.classList.add('colab-df-spinner');\n",
              "      try {\n",
              "        const charts = await google.colab.kernel.invokeFunction(\n",
              "            'suggestCharts', [key], {});\n",
              "      } catch (error) {\n",
              "        console.error('Error during call to suggestCharts:', error);\n",
              "      }\n",
              "      quickchartButtonEl.classList.remove('colab-df-spinner');\n",
              "      quickchartButtonEl.classList.add('colab-df-quickchart-complete');\n",
              "    }\n",
              "    (() => {\n",
              "      let quickchartButtonEl =\n",
              "        document.querySelector('#df-cedbc6a6-b5a5-4442-9969-ed7b6f6fbb8a button');\n",
              "      quickchartButtonEl.style.display =\n",
              "        google.colab.kernel.accessAllowed ? 'block' : 'none';\n",
              "    })();\n",
              "  </script>\n",
              "</div>\n",
              "\n",
              "  <div id=\"id_1196ef87-8d4f-49ec-967c-b20dee4be0ae\">\n",
              "    <style>\n",
              "      .colab-df-generate {\n",
              "        background-color: #E8F0FE;\n",
              "        border: none;\n",
              "        border-radius: 50%;\n",
              "        cursor: pointer;\n",
              "        display: none;\n",
              "        fill: #1967D2;\n",
              "        height: 32px;\n",
              "        padding: 0 0 0 0;\n",
              "        width: 32px;\n",
              "      }\n",
              "\n",
              "      .colab-df-generate:hover {\n",
              "        background-color: #E2EBFA;\n",
              "        box-shadow: 0px 1px 2px rgba(60, 64, 67, 0.3), 0px 1px 3px 1px rgba(60, 64, 67, 0.15);\n",
              "        fill: #174EA6;\n",
              "      }\n",
              "\n",
              "      [theme=dark] .colab-df-generate {\n",
              "        background-color: #3B4455;\n",
              "        fill: #D2E3FC;\n",
              "      }\n",
              "\n",
              "      [theme=dark] .colab-df-generate:hover {\n",
              "        background-color: #434B5C;\n",
              "        box-shadow: 0px 1px 3px 1px rgba(0, 0, 0, 0.15);\n",
              "        filter: drop-shadow(0px 1px 2px rgba(0, 0, 0, 0.3));\n",
              "        fill: #FFFFFF;\n",
              "      }\n",
              "    </style>\n",
              "    <button class=\"colab-df-generate\" onclick=\"generateWithVariable('dataset')\"\n",
              "            title=\"Generate code using this dataframe.\"\n",
              "            style=\"display:none;\">\n",
              "\n",
              "  <svg xmlns=\"http://www.w3.org/2000/svg\" height=\"24px\"viewBox=\"0 0 24 24\"\n",
              "       width=\"24px\">\n",
              "    <path d=\"M7,19H8.4L18.45,9,17,7.55,7,17.6ZM5,21V16.75L18.45,3.32a2,2,0,0,1,2.83,0l1.4,1.43a1.91,1.91,0,0,1,.58,1.4,1.91,1.91,0,0,1-.58,1.4L9.25,21ZM18.45,9,17,7.55Zm-12,3A5.31,5.31,0,0,0,4.9,8.1,5.31,5.31,0,0,0,1,6.5,5.31,5.31,0,0,0,4.9,4.9,5.31,5.31,0,0,0,6.5,1,5.31,5.31,0,0,0,8.1,4.9,5.31,5.31,0,0,0,12,6.5,5.46,5.46,0,0,0,6.5,12Z\"/>\n",
              "  </svg>\n",
              "    </button>\n",
              "    <script>\n",
              "      (() => {\n",
              "      const buttonEl =\n",
              "        document.querySelector('#id_1196ef87-8d4f-49ec-967c-b20dee4be0ae button.colab-df-generate');\n",
              "      buttonEl.style.display =\n",
              "        google.colab.kernel.accessAllowed ? 'block' : 'none';\n",
              "\n",
              "      buttonEl.onclick = () => {\n",
              "        google.colab.notebook.generateWithVariable('dataset');\n",
              "      }\n",
              "      })();\n",
              "    </script>\n",
              "  </div>\n",
              "\n",
              "    </div>\n",
              "  </div>\n"
            ],
            "application/vnd.google.colaboratory.intrinsic+json": {
              "type": "dataframe",
              "variable_name": "dataset",
              "summary": "{\n  \"name\": \"dataset\",\n  \"rows\": 19516,\n  \"fields\": [\n    {\n      \"column\": \"Rank\",\n      \"properties\": {\n        \"dtype\": \"number\",\n        \"std\": 482,\n        \"min\": 1,\n        \"max\": 2122,\n        \"num_unique_values\": 2116,\n        \"samples\": [\n          1633,\n          1474,\n          262\n        ],\n        \"semantic_type\": \"\",\n        \"description\": \"\"\n      }\n    },\n    {\n      \"column\": \"Name\",\n      \"properties\": {\n        \"dtype\": \"string\",\n        \"num_unique_values\": 14991,\n        \"samples\": [\n          \"SOLANI TIRADO Jaime\",\n          \"PESTOURIE Eric\",\n          \"HURDLE Richard\"\n        ],\n        \"semantic_type\": \"\",\n        \"description\": \"\"\n      }\n    },\n    {\n      \"column\": \"Year\",\n      \"properties\": {\n        \"dtype\": \"number\",\n        \"std\": 4,\n        \"min\": 2004,\n        \"max\": 2018,\n        \"num_unique_values\": 14,\n        \"samples\": [\n          2014,\n          2016,\n          2004\n        ],\n        \"semantic_type\": \"\",\n        \"description\": \"\"\n      }\n    },\n    {\n      \"column\": \"Result\",\n      \"properties\": {\n        \"dtype\": \"number\",\n        \"std\": 7.769645033443294,\n        \"min\": 10.543333333333331,\n        \"max\": 47.14305555555556,\n        \"num_unique_values\": 15963,\n        \"samples\": [\n          44.56472222222222,\n          44.12055555555556,\n          44.98638888888889\n        ],\n        \"semantic_type\": \"\",\n        \"description\": \"\"\n      }\n    },\n    {\n      \"column\": \"Age Group\",\n      \"properties\": {\n        \"dtype\": \"number\",\n        \"std\": 0,\n        \"min\": 0,\n        \"max\": 5,\n        \"num_unique_values\": 6,\n        \"samples\": [\n          1,\n          2,\n          5\n        ],\n        \"semantic_type\": \"\",\n        \"description\": \"\"\n      }\n    },\n    {\n      \"column\": \"Gender\",\n      \"properties\": {\n        \"dtype\": \"number\",\n        \"std\": 0,\n        \"min\": 0,\n        \"max\": 1,\n        \"num_unique_values\": 2,\n        \"samples\": [\n          1,\n          0\n        ],\n        \"semantic_type\": \"\",\n        \"description\": \"\"\n      }\n    }\n  ]\n}"
            }
          },
          "metadata": {},
          "execution_count": 14
        }
      ]
    },
    {
      "cell_type": "markdown",
      "source": [
        "### The Data Fields and Types\n",
        "\n",
        "This dataset contains the results for all the runners which finished the race over all the years in which the race took place. The data fields (the columns) for each runner are as following:\n",
        "\n",
        "- **Name**: The runner's name.\n",
        "- **Year**: The year of the race.\n",
        "- **Result**: The runner's result (the time it took him to finish the race) in hours. The race ends after about 47 hours. Therefore, these results are between 0 and 47.\n",
        "- **Age group**: The age group to which the runner belongs to: 0 - the youngest (10-22) and 6 - The oldest (80+)\n",
        "- **Gender**: The runner's gender: 0-male, 1-female.\n",
        "- **Rank**: The overall score rank of the runner in that specific year."
      ],
      "metadata": {
        "id": "hyO6NODyXm3z"
      }
    },
    {
      "cell_type": "markdown",
      "source": [
        "To extract a column from the DataFrame as a NumPy array we can use the following code:"
      ],
      "metadata": {
        "id": "6q2PHOiwXm31"
      }
    },
    {
      "cell_type": "markdown",
      "source": [
        "### ✍️ The == operator\n",
        "\n",
        "Correct the code below so that it will count and print the number of runners which have finished the race in 2014.\n",
        "- Use the equality operator \"a==b\" to create a boolean 1D array.\n",
        "- Use the summation function *np.sum(x)* to sum over the values of the array."
      ],
      "metadata": {
        "id": "STuozrNKXm32"
      }
    },
    {
      "cell_type": "code",
      "source": [
        "## Define the array of the years:\n",
        "years = dataset['Year'].values\n",
        "\n",
        "## %%%%%%%%%%%%%%% Your code here - Begin %%%%%%%%%%%%%%%\n",
        "## Correct the following line:\n",
        "## Example: the number of runners which have finished the race since 2010 would be: np.sum(x > 2010)\n",
        "number_of_runners_in_2014 = np.sum(years == 2014)\n",
        "## %%%%%%%%%%%%%%% Your code here - End %%%%%%%%%%%%%%%%%\n",
        "\n",
        "print('The number of runners which finished the race in 2014: ' + str(number_of_runners_in_2014))"
      ],
      "metadata": {
        "id": "iNolZM-zXm33",
        "colab": {
          "base_uri": "https://localhost:8080/",
          "height": 0
        },
        "outputId": "541d536d-dcf8-4df7-f700-ffa02210e247"
      },
      "execution_count": 15,
      "outputs": [
        {
          "output_type": "stream",
          "name": "stdout",
          "text": [
            "The number of runners which finished the race in 2014: 1582\n"
          ]
        }
      ]
    },
    {
      "cell_type": "markdown",
      "source": [
        "### ✍️ The & operator\n",
        "\n",
        "Correct the code below so that it will count and print the number of **male** runners which have finished the race in 2014.\n",
        "- Use the logical AND operator \"a & b\" two combine two boolean arrays"
      ],
      "metadata": {
        "id": "H_G6IHGTXm34"
      }
    },
    {
      "cell_type": "code",
      "source": [
        "## Define the array of the genders:\n",
        "genders = dataset['Gender'].values\n",
        "\n",
        "## %%%%%%%%%%%%%%% Your code here - Begin %%%%%%%%%%%%%%%\n",
        "## Fill in the following line:\n",
        "number_of_male_runners_in_2014 = np.sum((years == 2014) & (genders == 0))\n",
        "## %%%%%%%%%%%%%%% Your code here - End %%%%%%%%%%%%%%%%%\n",
        "\n",
        "print('The number of male runners which finished the race in 2014: ' + str(number_of_male_runners_in_2014))"
      ],
      "metadata": {
        "id": "GZm-OJP6Xm35",
        "colab": {
          "base_uri": "https://localhost:8080/",
          "height": 0
        },
        "outputId": "03eac172-8f80-4353-b110-3a25b7c4e742"
      },
      "execution_count": 16,
      "outputs": [
        {
          "output_type": "stream",
          "name": "stdout",
          "text": [
            "The number of male runners which finished the race in 2014: 1468\n"
          ]
        }
      ]
    },
    {
      "cell_type": "markdown",
      "source": [
        "### ✍️ Calculating the histogram\n",
        "\n",
        "In the cell below we define a function called *calculate_hist*. We would like this function to calculates an histogram based in the data array *x* by dividing the range of *x*s into *n_bins* equal bins.\n",
        "\n",
        "Complete the code so that it will correctly calculate the histogram:"
      ],
      "metadata": {
        "id": "VU6XGGeWXm36"
      }
    },
    {
      "cell_type": "code",
      "source": [
        "def calculate_hist(x, n_bins):\n",
        "    n_samples = len(x)  # Get the number of values in x\n",
        "\n",
        "    ## Define bins\n",
        "    bins_edges = np.linspace(x.min(), x.max(), n_bins + 1)\n",
        "    bins_width = np.diff(bins_edges) ## This is equal to running: bins[1:] - bins[:-1]\n",
        "\n",
        "    ## Initialize the array of histogram values\n",
        "    hist_values = np.zeros(n_bins)\n",
        "\n",
        "    ## Loop over the bins\n",
        "    for k in range(n_bins):\n",
        "        bin_left_edge = bins_edges[k]\n",
        "        bin_right_edge = bins_edges[k + 1]\n",
        "\n",
        "        ## %%%%%%%%%%%%%%% Your code here - Begin %%%%%%%%%%%%%%%\n",
        "        ## Fill in the following line to count the number of samples in each bin:\n",
        "        number_of_samples_in_bin = np.sum((x >= bin_left_edge) & (x < bin_right_edge))\n",
        "        ## %%%%%%%%%%%%%%% Your code here - End %%%%%%%%%%%%%%%%%\n",
        "\n",
        "        hist_values[k] = number_of_samples_in_bin / n_samples / bins_width[k]\n",
        "\n",
        "    return hist_values, bins_edges, bins_width"
      ],
      "metadata": {
        "id": "3xvtZdq4Xm36"
      },
      "execution_count": 17,
      "outputs": []
    },
    {
      "cell_type": "markdown",
      "source": [
        "The following code uses the function above to calculate the histogram on the list of runners' running times."
      ],
      "metadata": {
        "id": "bbqveR4QXm37"
      }
    },
    {
      "cell_type": "code",
      "source": [
        "## Define the array of the results:\n",
        "results = dataset['Result'].values\n",
        "\n",
        "## Calculate the histogram\n",
        "n_bins = 150\n",
        "hist_values, bins_edges, bins_width = calculate_hist(results, n_bins)"
      ],
      "metadata": {
        "id": "J5BbZ4P5Xm38"
      },
      "execution_count": 18,
      "outputs": []
    },
    {
      "cell_type": "markdown",
      "source": [
        "The following code uses the Matplotlib package to plot the histogram."
      ],
      "metadata": {
        "id": "O8pkzQ-FXm38"
      }
    },
    {
      "cell_type": "code",
      "source": [
        "## Prepare the figure and axes\n",
        "fig, ax = plt.subplots()\n",
        "\n",
        "## Plot the histogram's bars\n",
        "ax.bar(bins_edges[:-1], hist_values, width=bins_width, align='edge')\n",
        "\n",
        "## Set title and axis labels\n",
        "ax.set_title('Histogram of Results')\n",
        "ax.set_ylabel('PDF')\n",
        "ax.set_xlabel('Result [hours]');"
      ],
      "metadata": {
        "id": "oNBMWkPjXm39",
        "colab": {
          "base_uri": "https://localhost:8080/",
          "height": 674
        },
        "outputId": "0d17faa3-1f8a-4489-92de-59d0f3fda3a5"
      },
      "execution_count": 19,
      "outputs": [
        {
          "output_type": "display_data",
          "data": {
            "text/plain": [
              "<Figure size 720x720 with 1 Axes>"
            ],
            "image/png": "[encoded data removed]"
          },
          "metadata": {}
        }
      ]
    },
    {
      "cell_type": "markdown",
      "source": [
        "### The hist functions in NumPy and Matplotlib\n",
        "From here on we will use the NumPy function [numpy.histogram](https://docs.scipy.org/doc/numpy/reference/generated/numpy.histogram.html) to calculate histograms and the Matplotlib function [plt.hist](https://matplotlib.org/api/_as_gen/matplotlib.axes.Axes.hist.html?highlight=hist#matplotlib.axes.Axes.hist) to calculate and plot the histograms:"
      ],
      "metadata": {
        "id": "zi5dkKWBXm39"
      }
    },
    {
      "cell_type": "code",
      "source": [
        "## Calculate and plot the histogram\n",
        "fig, ax = plt.subplots()\n",
        "ax.hist(results, bins=n_bins ,density=True)\n",
        "ax.set_title('Historgram of Results')\n",
        "ax.set_ylabel('PDF')\n",
        "ax.set_xlabel('Result [hours]');"
      ],
      "metadata": {
        "id": "kUR_GDphXm39",
        "colab": {
          "base_uri": "https://localhost:8080/",
          "height": 674
        },
        "outputId": "2b20003c-a2c8-49dc-88b7-8ce36c7c8568"
      },
      "execution_count": 20,
      "outputs": [
        {
          "output_type": "display_data",
          "data": {
            "text/plain": [
              "<Figure size 720x720 with 1 Axes>"
            ],
            "image/png": "[encoded data removed]"
          },
          "metadata": {}
        }
      ]
    },
    {
      "cell_type": "markdown",
      "source": [
        "### ✍️  Indexing\n",
        "\n",
        "Like in Matlab, we can use an array of booleans *x* to index an array *y* by *y[x]*.\n",
        "\n",
        "Complete the following code to calculate the mean result of male runners from 2014:"
      ],
      "metadata": {
        "id": "dC3rSYmtXm3-"
      }
    },
    {
      "cell_type": "code",
      "source": [
        "## %%%%%%%%%%%%%%% Your code here - Begin %%%%%%%%%%%%%%%\n",
        "## Fill in the following line so that indices will be a boolean array corresponding to male runners which competed in 2014\n",
        "indices = (dataset['Gender'] == 0) & (dataset['Year'] == 2014)\n",
        "## %%%%%%%%%%%%%%% Your code here - End %%%%%%%%%%%%%%%%%\n",
        "\n",
        "result_of_male_in_2014 = results[indices]\n",
        "mean_result = np.mean(result_of_male_in_2014)\n",
        "print('The mean result of male runners in 2014 is {:.2f} hours'.format(mean_result))"
      ],
      "metadata": {
        "id": "XFRsiJ4CXm3_",
        "colab": {
          "base_uri": "https://localhost:8080/",
          "height": 0
        },
        "outputId": "ba1724cb-e3bb-4e38-c1a5-b2ba7bb17526"
      },
      "execution_count": 21,
      "outputs": [
        {
          "output_type": "stream",
          "name": "stdout",
          "text": [
            "The mean result of male runners in 2014 is 39.68 hours\n"
          ]
        }
      ]
    },
    {
      "cell_type": "markdown",
      "source": [
        "*In the last line we have used the format function to format the output string. From here on we will be using format for that. You can read about how to use the format function [here](https://pyformat.info/)*"
      ],
      "metadata": {
        "id": "3zxJrcyRXm3_"
      }
    },
    {
      "cell_type": "markdown",
      "source": [
        "### ✍️  Comparing Two Age Groups\n",
        "\n",
        "Let us now compare the results of two groups of runers:\n",
        "\n",
        "- **Group 1**: Male runners from age group 1 in 2018\n",
        "- **Group 2**: Male runners from age group 3 in 2018\n",
        "\n",
        "Complete the code bellow to extract the results of these two groups and plots their histograms:"
      ],
      "metadata": {
        "id": "nEDzFX2gXm4A"
      }
    },
    {
      "cell_type": "code",
      "source": [
        "## %%%%%%%%%%%%%%% Your code here - Begin %%%%%%%%%%%%%%%\\\n",
        "## Define the array of age groups:\n",
        "age_group = dataset['Age Group'].values\n",
        "\n",
        "## Define the indices for each group\n",
        "indices1 = (dataset['Gender'] == 0) & (dataset['Year'] == 2018) & (dataset['Age Group'] == 1)\n",
        "indices2 = (dataset['Gender'] == 0) & (dataset['Year'] == 2018) & (dataset['Age Group'] == 3)\n",
        "\n",
        "## Extract the results for each group\n",
        "results1 = results[indices1]\n",
        "results2 = results[indices2]\n",
        "## %%%%%%%%%%%%%%% Your code here - End %%%%%%%%%%%%%%%%%\n",
        "\n",
        "## Calculate and plot the histograms\n",
        "fig, ax = plt.subplots()\n",
        "ax.hist(results1, bins=40 ,density=True, alpha=0.3, label='Group 1')\n",
        "ax.hist(results2, bins=40 ,density=True, alpha=0.3, label='Group 2')\n",
        "ax.set_title('Historgrams for Groups 1 & 2')\n",
        "ax.set_ylabel('PDF')\n",
        "ax.set_xlabel('Result [hours]');\n",
        "ax.legend();"
      ],
      "metadata": {
        "id": "F6euz-C8Xm4B",
        "colab": {
          "base_uri": "https://localhost:8080/",
          "height": 674
        },
        "outputId": "820a729a-6bff-4608-d4dd-c98a8fe1ece4"
      },
      "execution_count": 22,
      "outputs": [
        {
          "output_type": "display_data",
          "data": {
            "text/plain": [
              "<Figure size 720x720 with 1 Axes>"
            ],
            "image/png": "[encoded data removed]"
          },
          "metadata": {}
        }
      ]
    },
    {
      "cell_type": "markdown",
      "source": [
        "### Fitting a parametric distribution model\n",
        "\n",
        "We will now try to fit a parametric distribution model to the results of the two age groups. We will do so using use the [Beta distribution](https://en.wikipedia.org/wiki/Beta_distribution).\n",
        "\n",
        "The Beta distribution describes a continues distribution over the finite interval of $\\left[0,1\\right]$ and has the following PDF:\n",
        "\n",
        "$$\n",
        "p\\left(x;a,b\\right)=\\frac{\\Gamma\\left(a+b\\right)}{\\Gamma\\left(a\\right)\\Gamma\\left(b\\right)}x^{a-1}\\left(1-x\\right)^{b-1}\n",
        "$$\n",
        "\n",
        "$\\Gamma$ here is the [Gamam function](https://en.wikipedia.org/wiki/Gamma_function) and is usually referred to as the extension of the factorial fuction. (since for integers inputs we get that $\\Gamma\\left(n\\right)=\\left(n-1\\right)!$). The Gamma function appears in the PDFs of various known distributions and is defined as an integral over some integrand. For our needs we will only have to be able to evaluate it for different inputs, and we will do so using SciPy function [scipy.special.gamma](https://docs.scipy.org/doc/scipy/reference/generated/scipy.special.gamma.html).\n",
        "\n",
        "$a$ and $b$ are the two parameters of the distribution, which we would like to find.\n",
        "\n",
        "#### Scaling the distribution\n",
        "\n",
        "In our case, the results are distributed over the interval $\\left[0,47\\right]$, so we will have to scale the Beta distribution to fit this range. We can do so by using the following scaled PDF:\n",
        "\n",
        "$$\n",
        "p\\left(x;a,b,s\\right)=\\frac{\\Gamma\\left(a+b\\right)}{s\\cdot\\Gamma\\left(a\\right)\\Gamma\\left(b\\right)}\\left(x/s\\right)^{a-1}\\left(1-\\left(x/s\\right)\\right)^{b-1}\n",
        "$$\n",
        "\n",
        "In our case $s=47$."
      ],
      "metadata": {
        "id": "TBaOWS0zXm4B"
      }
    },
    {
      "cell_type": "markdown",
      "source": [
        "### ✍️  Plotting the Beta Distribution\n",
        "\n",
        "Fill in the code below to define the function *calc_beta_pdf*, which calculates the Beta distribution's PDF given some $a$ and $b$.\n",
        "\n",
        "- Use the gamma(x) to calculate $\\Gamma\\left(x\\right)$"
      ],
      "metadata": {
        "id": "5aUiJZxCXm4C"
      }
    },
    {
      "cell_type": "code",
      "source": [
        "## import the gamma function from the SciPy package\n",
        "from scipy.special import gamma\n",
        "\n",
        "## Define the function calculating the PDF of the Beta distribution\n",
        "def calc_beta_pdf(x, a, b, s):\n",
        "    ## %%%%%%%%%%%%%%% Your code here - Begin %%%%%%%%%%%%%%%\n",
        "    pdf_value = (gamma(a + b) / (gamma(a) * gamma(b))) * (x ** (a - 1)) * ((s - x) ** (b - 1))\n",
        "    ## %%%%%%%%%%%%%%% Your code here - End %%%%%%%%%%%%%%%%%\n",
        "\n",
        "    return pdf_value"
      ],
      "metadata": {
        "id": "HBREkBbnXm4C"
      },
      "execution_count": 23,
      "outputs": []
    },
    {
      "cell_type": "markdown",
      "source": [
        "The following code plots the PDF for the following values of values of $\\left(a,b\\right)$:\n",
        "\n",
        "$$\n",
        "\\left(0.5,0.5\\right),\\left(5,1\\right),\\left(1,3\\right),\\left(2,2\\right),\\left(2,5\\right),\n",
        "$$\n",
        "\n",
        "(You are expected get an \"RuntimeWarning: divide by zero\" error and it is OK.)"
      ],
      "metadata": {
        "id": "RzVjbjdBXm4C"
      }
    },
    {
      "cell_type": "code",
      "source": [
        "## Define the scale parameter s\n",
        "s = 47\n",
        "\n",
        "## Define a grid to plot the distribution over.\n",
        "results_grid = np.arange(0, 47.1, 0.1)  # A grid from 0 to 47 with steps of 0.1\n",
        "\n",
        "## Prepare the figure and axes\n",
        "fig, ax = plt.subplots()\n",
        "\n",
        "## Calculate and plot the PDF for eac hset of parameters\n",
        "for a, b in [[0.5, 0.5], [5, 1], [1, 3], [2, 2], [2, 5]]:\n",
        "  beta_pdf = calc_beta_pdf(results_grid, a, b, s)\n",
        "  ax.plot(results_grid, beta_pdf, label='$a={},b={}$'.format(a, b))\n",
        "\n",
        "ax.set_title('Beta Distributions')\n",
        "ax.set_ylabel('PDF')\n",
        "ax.set_xlabel('Result [hours]');\n",
        "ax.set_ylim(0, 2.5 / s)\n",
        "ax.legend();"
      ],
      "metadata": {
        "id": "nZ44boi1Xm4D",
        "colab": {
          "base_uri": "https://localhost:8080/",
          "height": 709
        },
        "outputId": "1f78b368-6244-40a7-edd9-bfafd3428edd"
      },
      "execution_count": 24,
      "outputs": [
        {
          "output_type": "stream",
          "name": "stderr",
          "text": [
            "<ipython-input-23-74f718837f44>:7: RuntimeWarning: divide by zero encountered in power\n",
            "  pdf_value = (gamma(a + b) / (gamma(a) * gamma(b))) * (x ** (a - 1)) * ((s - x) ** (b - 1))\n"
          ]
        },
        {
          "output_type": "display_data",
          "data": {
            "text/plain": [
              "<Figure size 720x720 with 1 Axes>"
            ],
            "image/png": "[encoded data removed]"
          },
          "metadata": {}
        }
      ]
    },
    {
      "cell_type": "markdown",
      "source": [
        "### ✍️  Maximum Likelihood Estimation (MLE)\n",
        "\n",
        "We will Use the MLE approach to find the optimal parameters $a^*$ and $b^*$ for fitting the beta distribution to the results of group 1 and group2.\n",
        "\n",
        "To find the optimal parameters which minimizes the *Argmin* use a grid search, i.e., look for the optimal parameters over a selected grid by checking each and every point on the grid. Fill in the code below the define the functions performing the MLE.\n",
        "\n",
        "- Use np.log(x) to calculate the log of x\n",
        "- Use the calc_beta_pdf we have defined above to calculate the log-likelihood\n",
        "- Reminder: Use np.sum(x) to calculate the sum over the array x"
      ],
      "metadata": {
        "id": "0gwqxxALXm4D"
      }
    },
    {
      "cell_type": "code",
      "source": [
        "# Define the log-likelihood function\n",
        "def beta_log_likelyhood(a, b, s, x):\n",
        "    ## %%%%%%%%%%%%%%% Your code here - Begin %%%%%%%%%%%%%%%\n",
        "    ## Fill in this line to calculate the log-likelihood. x here is the array contating the data.\n",
        "    log_likelyhood =np.sum(np.log(calc_beta_pdf(a, b, s, x)))\n",
        "    ## %%%%%%%%%%%%%%% Your code here - End %%%%%%%%%%%%%%%%%\n",
        "\n",
        "    return log_likelyhood\n",
        "\n",
        "\n",
        "# Define the function which searches for the optimal parameters a & b on a given grid\n",
        "def beta_mle(a_grid, b_grid, s, x):\n",
        "    optimal_a = None\n",
        "    optimal_b = None\n",
        "    min_value_so_far = np.inf\n",
        "    for a in a_grid:\n",
        "        for b in b_grid:\n",
        "            ## %%%%%%%%%%%%%%% Your code here - Begin %%%%%%%%%%%%%%%\n",
        "            current_value = beta_log_likelyhood(a, b, s, x)\n",
        "            ## %%%%%%%%%%%%%%% Your code here - End %%%%%%%%%%%%%%%%%\n",
        "            if current_value < min_value_so_far:\n",
        "                optimal_a = a\n",
        "                optimal_b = b\n",
        "                min_value_so_far = current_value\n",
        "\n",
        "    return optimal_a, optimal_b"
      ],
      "metadata": {
        "id": "0oy4lOtbXm4D"
      },
      "execution_count": 25,
      "outputs": []
    },
    {
      "cell_type": "code",
      "source": [
        "## Define the grid\n",
        "a_grid = np.arange(0.1, 10, 0.1)\n",
        "b_grid = np.arange(0.1, 10, 0.1)\n",
        "\n",
        "## Group 1\n",
        "## =======\n",
        "## Find optimal MLE parameters\n",
        "optimal_a1, optimal_b1 = beta_mle(a_grid, b_grid, s, results1)\n",
        "## Calcualte the PDF\n",
        "beta_pdf1 = calc_beta_pdf(results_grid, optimal_a1, optimal_b1, s)\n",
        "## Plot the results\n",
        "fig, ax = plt.subplots()\n",
        "ax.hist(results1, bins=40 ,density=True, label='Histogram')\n",
        "ax.plot(results_grid, beta_pdf1, label='Beta')\n",
        "ax.set_title('Group 1 - MLE')\n",
        "ax.set_ylabel('PDF')\n",
        "ax.set_xlabel('Time [min]')\n",
        "ax.legend();\n",
        "\n",
        "## Group 2\n",
        "## =======\n",
        "## Find optimal MLE parameters\n",
        "optimal_a2, optimal_b2 = beta_mle(a_grid, b_grid, s, results2)\n",
        "## Calcualte the PDF\n",
        "beta_pdf2 = calc_beta_pdf(results_grid, optimal_a2, optimal_b2, s)\n",
        "## Plot the results\n",
        "fig, ax = plt.subplots()\n",
        "ax.hist(results2, bins=40 ,density=True, label='Histogram')\n",
        "ax.plot(results_grid, beta_pdf2, label='Beta')\n",
        "ax.set_title('Group 2 - MLE')\n",
        "ax.set_ylabel('PDF')\n",
        "ax.set_xlabel('Time [min]')\n",
        "ax.legend();"
      ],
      "metadata": {
        "id": "CWYaKs5BXm4E",
        "colab": {
          "base_uri": "https://localhost:8080/",
          "height": 1029
        },
        "outputId": "e252cb67-8d03-4f34-8c70-53a1eb92339d"
      },
      "execution_count": 26,
      "outputs": [
        {
          "output_type": "stream",
          "name": "stderr",
          "text": [
            "<ipython-input-23-74f718837f44>:7: RuntimeWarning: divide by zero encountered in power\n",
            "  pdf_value = (gamma(a + b) / (gamma(a) * gamma(b))) * (x ** (a - 1)) * ((s - x) ** (b - 1))\n"
          ]
        },
        {
          "output_type": "display_data",
          "data": {
            "text/plain": [
              "<Figure size 720x720 with 1 Axes>"
            ],
            "image/png": "[encoded data removed]"
          },
          "metadata": {}
        },
        {
          "output_type": "display_data",
          "data": {
            "text/plain": [
              "<Figure size 720x720 with 1 Axes>"
            ],
            "image/png": "[encoded data removed]"
          },
          "metadata": {}
        }
      ]
    },
    {
      "cell_type": "markdown",
      "source": [
        "The following code uses the above functions to find the optimal parameters and plot the estimated PDF over the histogram"
      ],
      "metadata": {
        "id": "TqVgL_8pXm4E"
      }
    },
    {
      "cell_type": "markdown",
      "source": [
        "### The [scipy.stats.beta](https://docs.scipy.org/doc/scipy/reference/generated/scipy.stats.beta.html) model\n",
        "\n",
        "SciPy has a set of object for working with a large range of distributions, one of them is *scipy.stats.beta*.\n",
        "A distribution with a given set of parameter can by define by:\n",
        "``` python\n",
        "distrib = beta(a, b)\n",
        "```\n",
        "\n",
        "or with a specific scale and offset:\n",
        "``` python\n",
        "distrib = beta(a, b, offset, scale)\n",
        "```\n",
        "\n",
        "The *distrib* objects can now be used to calculate the PDF using *distrib.pdf*, generate random samples using *distrib.rsv* and more.\n",
        "The *scipy.stats.beta* can also be used to estimate the MLE parameters given a dataset by:\n",
        "``` python\n",
        "a,  b, offset, scale = beta.fit(data, floc=offset, fscale=scale)\n",
        "```\n",
        "\n",
        "The following code compares our grid search calculation of the MLE parameters to SciPy's calculation."
      ],
      "metadata": {
        "id": "BSxW6HivXm4F"
      }
    },
    {
      "cell_type": "code",
      "source": [
        "## Import the beta distribution model from SciPy\n",
        "from scipy.stats import beta\n",
        "\n",
        "## Calcualte the MLE parameters for group 1 using SciPy\n",
        "optimal_a1_scipy, optimal_b1_scipy, _, _ = beta.fit(results1, floc=0, fscale=s)\n",
        "## The _ in the line above tells Python to ignore the 3rd and 4th outputs of beta.fit\n",
        "\n",
        "print('Results using our function: a={:.2f}, b={:.2f}'.format(optimal_a1, optimal_b1))\n",
        "print('Results using SciPy: a={:.2f}, b={:.2f}'.format(optimal_a1_scipy, optimal_b1_scipy))"
      ],
      "metadata": {
        "id": "C30DaP6-Xm4F",
        "colab": {
          "base_uri": "https://localhost:8080/",
          "height": 0
        },
        "outputId": "3be08789-52ed-45fe-c9f2-b3228da12f43"
      },
      "execution_count": 27,
      "outputs": [
        {
          "output_type": "stream",
          "name": "stdout",
          "text": [
            "Results using our function: a=9.90, b=0.10\n",
            "Results using SciPy: a=6.58, b=1.47\n"
          ]
        }
      ]
    },
    {
      "cell_type": "markdown",
      "source": [
        "## The Probability of Group 2 Being Better Then Group 1\n",
        "\n",
        "We would now like to calculate the following probability:\n",
        "\n",
        "> The probability that the result of a random runner from group 2 will be better (lower) then the result of a random runner from group 1\n",
        "\n",
        "We would like to do so based on the two estimated probabilities we have found.\n",
        "\n",
        "Before you start, write this probability (for yourself, not for submission) as an integral over the PDF of the joint distribution of the two results. We will calculate this integral numerically."
      ],
      "metadata": {
        "id": "O_wv7wDGXm4G"
      }
    },
    {
      "cell_type": "markdown",
      "source": [
        "### The 2D grid\n",
        "\n",
        "The following code creates a 2D grid using np.meshgrid (which is similar to Matlab's meshgrid function)"
      ],
      "metadata": {
        "id": "yUEiqQEsXm4T"
      }
    },
    {
      "cell_type": "code",
      "source": [
        "## Define the 2D grid of results using np.meshgrid (which is similar to Matlab's meshgrid function)\n",
        "results_grid_2d_1, results_grid_2d_2 = np.meshgrid(np.arange(0, 47.1, 0.1), np.arange(0, 47.1, 0.1))\n",
        "\n",
        "print('results_grid_2d_1:')\n",
        "print(results_grid_2d_1[:5, :5])\n",
        "print()\n",
        "print('results_grid_2d_2:')\n",
        "print(results_grid_2d_2[:5, :5])"
      ],
      "metadata": {
        "id": "E-v0d561Xm4T",
        "colab": {
          "base_uri": "https://localhost:8080/",
          "height": 0
        },
        "outputId": "586def4b-8ae1-4cdd-e99d-954f98a998b5"
      },
      "execution_count": 28,
      "outputs": [
        {
          "output_type": "stream",
          "name": "stdout",
          "text": [
            "results_grid_2d_1:\n",
            "[[0.  0.1 0.2 0.3 0.4]\n",
            " [0.  0.1 0.2 0.3 0.4]\n",
            " [0.  0.1 0.2 0.3 0.4]\n",
            " [0.  0.1 0.2 0.3 0.4]\n",
            " [0.  0.1 0.2 0.3 0.4]]\n",
            "\n",
            "results_grid_2d_2:\n",
            "[[0.  0.  0.  0.  0. ]\n",
            " [0.1 0.1 0.1 0.1 0.1]\n",
            " [0.2 0.2 0.2 0.2 0.2]\n",
            " [0.3 0.3 0.3 0.3 0.3]\n",
            " [0.4 0.4 0.4 0.4 0.4]]\n"
          ]
        }
      ]
    },
    {
      "cell_type": "markdown",
      "source": [
        "### ✍️  The joint probability\n",
        "\n",
        "Calculate the PDF of the joint probability of the results of the two runners over the 2D grid of results."
      ],
      "metadata": {
        "id": "_dODbMK1Xm4U"
      }
    },
    {
      "cell_type": "code",
      "source": [
        "## %%%%%%%%%%%%%%% Your code here - Begin %%%%%%%%%%%%%%%\n",
        "## Calcualte the MLE parameters for group 2 using SciPy\n",
        "optimal_a2_scipy, optimal_b2_scipy, _, _ = beta.fit(results2, floc=0, fscale=s)\n",
        "\n",
        "## Define two SciPy beta distribution objects based on the MLE parameters calculated earlier:\n",
        "beta_dist1 = beta(optimal_a1_scipy, optimal_b1_scipy, loc=0, scale=s)\n",
        "beta_dist2 = beta(optimal_a2_scipy, optimal_b2_scipy, loc=0, scale=s)\n",
        "\n",
        "## Calculate the marginal PDF of the two results over the grid\n",
        "marginal_pdf1 = beta_dist1.pdf(results_grid_2d_1)\n",
        "marginal_pdf2 = beta_dist2.pdf(results_grid_2d_1)\n",
        "\n",
        "## Calculate the joint PDF over the grid\n",
        "joint_pdf = marginal_pdf1 + marginal_pdf2\n",
        "## %%%%%%%%%%%%%%% Your code here - End %%%%%%%%%%%%%%%%%"
      ],
      "metadata": {
        "id": "XTL-no7dXm4U"
      },
      "execution_count": 29,
      "outputs": []
    },
    {
      "cell_type": "markdown",
      "source": [
        "### Plotting the joint distribution\n",
        "\n",
        "(You are expected get an \"RuntimeWarning: divide by zero\" error and it is OK.)"
      ],
      "metadata": {
        "id": "BSuRdT7nXm4V"
      }
    },
    {
      "cell_type": "code",
      "source": [
        "## Plot the joint PDF\n",
        "from matplotlib import ticker  # ticker is used to select the levels of the conturs map according to a logaritmic scale\n",
        "fig, ax = plt.subplots()\n",
        "ax.contour(results_grid_2d_1, results_grid_2d_2, joint_pdf, locator=ticker.LogLocator(numticks=40), colors='black', linewidths=0.2)\n",
        "img_obj = ax.contourf(results_grid_2d_1, results_grid_2d_2, joint_pdf, locator=ticker.LogLocator(numticks=40), cmap='jet')\n",
        "plt.colorbar(img_obj);\n",
        "ax.set_title('The Joint PDF')\n",
        "ax.set_ylabel('Result of Runner 2')\n",
        "ax.set_xlabel('Result of Runner 1')\n",
        "ax.legend();"
      ],
      "metadata": {
        "id": "rqTEcNguXm4V",
        "colab": {
          "base_uri": "https://localhost:8080/",
          "height": 761
        },
        "outputId": "fed7f686-805a-4d86-cc4d-62cfda7281b4"
      },
      "execution_count": 30,
      "outputs": [
        {
          "output_type": "stream",
          "name": "stderr",
          "text": [
            "<ipython-input-30-386eee48f787>:4: UserWarning: Log scale: values of z <= 0 have been masked\n",
            "  ax.contour(results_grid_2d_1, results_grid_2d_2, joint_pdf, locator=ticker.LogLocator(numticks=40), colors='black', linewidths=0.2)\n",
            "<ipython-input-30-386eee48f787>:5: UserWarning: Log scale: values of z <= 0 have been masked\n",
            "  img_obj = ax.contourf(results_grid_2d_1, results_grid_2d_2, joint_pdf, locator=ticker.LogLocator(numticks=40), cmap='jet')\n",
            "WARNING:matplotlib.legend:No artists with labels found to put in legend.  Note that artists whose label start with an underscore are ignored when legend() is called with no argument.\n"
          ]
        },
        {
          "output_type": "display_data",
          "data": {
            "text/plain": [
              "<Figure size 720x720 with 2 Axes>"
            ],
            "image/png": "[encoded data removed]"
          },
          "metadata": {}
        }
      ]
    },
    {
      "cell_type": "markdown",
      "source": [
        "### Calculation the integral\n",
        "\n",
        "Given a 2D grid $\\left\\{x_i\\right\\}$, $\\left\\{y_j\\right\\}$ with step sizes of $\\Delta x$ and $\\Delta y$ and area $S$, we can approximate the integral:\n",
        "\n",
        "$$\n",
        "\\underset{S}{\\int\\int}f\\left(x,y\\right)dx_1dx_2\n",
        "$$\n",
        "\n",
        "As:\n",
        "\n",
        "$$\n",
        "\\sum_{x_i,y_j\\in S}f\\left(x_i,y_j\\right) \\Delta x \\Delta y\n",
        "$$\n",
        "\n",
        "✍️ Approximate the desired probability using a numerical approximation of the relevant integral over the joint probability:"
      ],
      "metadata": {
        "id": "NPxtci8oXm4V"
      }
    },
    {
      "cell_type": "code",
      "source": [
        "dx1 = 0.1\n",
        "dx2 = 0.1\n",
        "\n",
        "## %%%%%%%%%%%%%%% Your code here - Begin %%%%%%%%%%%%%%%\n",
        "## Fill in the following line to define the points on the grid which we would like to integrate over.\n",
        "## Use results_grid_2d_1 & results_grid_2d_2 to define relevat_area\n",
        "relevat_area = results_grid_2d_1 > results_grid_2d_2\n",
        "## %%%%%%%%%%%%%%% Your code here - End %%%%%%%%%%%%%%%%%\n",
        "\n",
        "prob = np.sum(joint_pdf * relevat_area) * dx1 * dx2\n",
        "\n",
        "print('The probability that the result of a random runner from group 2 will be better (lower) then the result of a random runner from group 1 is: {:.2f}'.format(prob))"
      ],
      "metadata": {
        "id": "LJmQRPrnXm4W",
        "colab": {
          "base_uri": "https://localhost:8080/",
          "height": 0
        },
        "outputId": "345fdc15-4e92-4ccf-b1d8-19ee9befcbe6"
      },
      "execution_count": 31,
      "outputs": [
        {
          "output_type": "stream",
          "name": "stdout",
          "text": [
            "The probability that the result of a random runner from group 2 will be better (lower) then the result of a random runner from group 1 is: 80.40\n"
          ]
        }
      ]
    },
    {
      "cell_type": "markdown",
      "source": [
        "## Submission\n",
        "\n",
        "To submit your code download it as a **ipynb** file from Colab, and upload it to the course's website (Moodle). You can download this code by selecting **Download .ipynb** from the **file** menu."
      ],
      "metadata": {
        "id": "rb5P_jyYXm4W"
      }
    }
  ],
  "metadata": {
    "kernelspec": {
      "display_name": "Python 3",
      "language": "python",
      "name": "python3"
    },
    "colab": {
      "provenance": [],
      "include_colab_link": true
    }
  },
  "nbformat": 4,
  "nbformat_minor": 0
}